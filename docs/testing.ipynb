{
 "cells": [
  {
   "cell_type": "code",
   "execution_count": 1,
   "metadata": {
    "ExecuteTime": {
     "end_time": "2020-01-13T11:27:48.303600Z",
     "start_time": "2020-01-13T11:27:48.009548Z"
    }
   },
   "outputs": [],
   "source": [
    "from bridgelib.base import Hand, Deal\n",
    "from bridgelib.constants import *\n",
    "from bridgelib.play import dds_solver, DDSResult, LiveResult\n",
    "from bridgelib.scrape import scrape_ACBL_tournament, scrape_page, write_one_tournament\n",
    "from bridgelib.score import score_contract, reverse_score, score_array\n",
    "from bridgelib.bidding import Bidding, PassStrategy\n",
    "from bridgelib.GIB import find_bid, GIBStrategy\n",
    "from bridgelib.helpers import array_from_solver_out\n",
    "from bridgelib.data import gen_dds, read_dds, read_results_file\n",
    "\n",
    "import numpy as np\n",
    "import time"
   ]
  },
  {
   "cell_type": "code",
   "execution_count": 3,
   "metadata": {
    "ExecuteTime": {
     "end_time": "2020-01-13T11:29:30.981835Z",
     "start_time": "2020-01-13T11:29:30.975117Z"
    }
   },
   "outputs": [],
   "source": [
    "out = read_results_file('tournaments/NABC141_26I2_1_summary.pkl')"
   ]
  },
  {
   "cell_type": "code",
   "execution_count": 4,
   "metadata": {
    "ExecuteTime": {
     "end_time": "2020-01-13T11:29:32.569527Z",
     "start_time": "2020-01-13T11:29:32.560667Z"
    }
   },
   "outputs": [
    {
     "data": {
      "text/plain": [
       "[(-400, '3NT', 'W'),\n",
       " (-150, '2NT', 'E'),\n",
       " (-120, '2NT', 'W'),\n",
       " (-120, '2NT', 'W'),\n",
       " (50, '3NT', 'W'),\n",
       " (50, '4h', 'W')]"
      ]
     },
     "execution_count": 4,
     "metadata": {},
     "output_type": "execute_result"
    }
   ],
   "source": [
    "out[1].res_list"
   ]
  },
  {
   "cell_type": "code",
   "execution_count": null,
   "metadata": {},
   "outputs": [],
   "source": []
  },
  {
   "cell_type": "code",
   "execution_count": 1,
   "metadata": {
    "ExecuteTime": {
     "end_time": "2020-01-13T10:44:32.941429Z",
     "start_time": "2020-01-13T10:44:32.862685Z"
    },
    "scrolled": true
   },
   "outputs": [
    {
     "ename": "NameError",
     "evalue": "name 'read_dds' is not defined",
     "output_type": "error",
     "traceback": [
      "\u001b[0;31m---------------------------------------------------------------------------\u001b[0m",
      "\u001b[0;31mNameError\u001b[0m                                 Traceback (most recent call last)",
      "\u001b[0;32m<ipython-input-1-60089d9fe95a>\u001b[0m in \u001b[0;36m<module>\u001b[0;34m\u001b[0m\n\u001b[0;32m----> 1\u001b[0;31m \u001b[0mread_dds\u001b[0m\u001b[0;34m(\u001b[0m\u001b[0;36m10\u001b[0m\u001b[0;34m)\u001b[0m\u001b[0;34m.\u001b[0m\u001b[0m__len__\u001b[0m\u001b[0;34m(\u001b[0m\u001b[0;34m)\u001b[0m\u001b[0;34m\u001b[0m\u001b[0;34m\u001b[0m\u001b[0m\n\u001b[0m",
      "\u001b[0;31mNameError\u001b[0m: name 'read_dds' is not defined"
     ]
    }
   ],
   "source": [
    "read_dds(10).__len__()"
   ]
  },
  {
   "cell_type": "code",
   "execution_count": 9,
   "metadata": {
    "ExecuteTime": {
     "end_time": "2020-01-13T11:31:44.307857Z",
     "start_time": "2020-01-13T11:31:44.303968Z"
    }
   },
   "outputs": [
    {
     "data": {
      "text/plain": [
       "Hand object with pbn: K76.J632.AT5.A42"
      ]
     },
     "execution_count": 9,
     "metadata": {},
     "output_type": "execute_result"
    }
   ],
   "source": [
    "f = GIBStrategy().fn\n",
    "b = Bidding(['1h', '2d'], dlr='N')\n",
    "h = Hand()\n",
    "h"
   ]
  },
  {
   "cell_type": "code",
   "execution_count": 10,
   "metadata": {
    "ExecuteTime": {
     "end_time": "2020-01-13T11:31:44.506067Z",
     "start_time": "2020-01-13T11:31:44.502870Z"
    }
   },
   "outputs": [
    {
     "data": {
      "text/plain": [
       "<Call.PASS: 0>"
      ]
     },
     "execution_count": 10,
     "metadata": {},
     "output_type": "execute_result"
    }
   ],
   "source": [
    "PassStrategy().fn(h, b)"
   ]
  },
  {
   "cell_type": "code",
   "execution_count": 11,
   "metadata": {
    "ExecuteTime": {
     "end_time": "2020-01-13T11:31:48.157492Z",
     "start_time": "2020-01-13T11:31:46.938947Z"
    }
   },
   "outputs": [
    {
     "data": {
      "text/plain": [
       "<Call.3d: 12>"
      ]
     },
     "execution_count": 11,
     "metadata": {},
     "output_type": "execute_result"
    }
   ],
   "source": [
    "f(h, b)"
   ]
  },
  {
   "cell_type": "code",
   "execution_count": null,
   "metadata": {},
   "outputs": [],
   "source": []
  },
  {
   "cell_type": "code",
   "execution_count": null,
   "metadata": {},
   "outputs": [],
   "source": []
  }
 ],
 "metadata": {
  "kernelspec": {
   "display_name": "Python 3",
   "language": "python",
   "name": "python3"
  },
  "language_info": {
   "codemirror_mode": {
    "name": "ipython",
    "version": 3
   },
   "file_extension": ".py",
   "mimetype": "text/x-python",
   "name": "python",
   "nbconvert_exporter": "python",
   "pygments_lexer": "ipython3",
   "version": "3.7.4"
  },
  "latex_envs": {
   "LaTeX_envs_menu_present": true,
   "autoclose": true,
   "autocomplete": true,
   "bibliofile": "biblio.bib",
   "cite_by": "apalike",
   "current_citInitial": 1,
   "eqLabelWithNumbers": true,
   "eqNumInitial": 1,
   "hotkeys": {
    "equation": "Ctrl-E",
    "itemize": "Ctrl-I"
   },
   "labels_anchors": false,
   "latex_user_defs": false,
   "report_style_numbering": false,
   "user_envs_cfg": false
  },
  "nbTranslate": {
   "displayLangs": [
    "*"
   ],
   "hotkey": "alt-t",
   "langInMainMenu": true,
   "sourceLang": "en",
   "targetLang": "fr",
   "useGoogleTranslate": true
  }
 },
 "nbformat": 4,
 "nbformat_minor": 2
}
